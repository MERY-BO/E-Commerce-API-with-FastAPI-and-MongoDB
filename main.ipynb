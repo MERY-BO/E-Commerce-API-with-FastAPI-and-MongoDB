{
 "cells": [
  {
   "cell_type": "code",
   "execution_count": 2,
   "metadata": {},
   "outputs": [],
   "source": [
    "import pymongo"
   ]
  },
  {
   "cell_type": "markdown",
   "metadata": {},
   "source": [
    "Define Data Schema:\n",
    "We have the folowing collections: \n",
    "\n",
    "-Users\n",
    "-Products\n",
    "-Orders\n",
    "-Reviews\n",
    "-Cart\n",
    "-Recommendations\n"
   ]
  },
  {
   "cell_type": "code",
   "execution_count": 3,
   "metadata": {},
   "outputs": [],
   "source": [
    "from pymongo import MongoClient\n",
    "\n",
    "client = MongoClient('mongodb://localhost:27017/')\n",
    "db = client['e_commerce_db']"
   ]
  },
  {
   "cell_type": "code",
   "execution_count": null,
   "metadata": {},
   "outputs": [
    {
     "data": {
      "text/plain": [
       "InsertManyResult([ObjectId('67b24b14e58e3efea0d3ba60'), ObjectId('67b24b14e58e3efea0d3ba61'), ObjectId('67b24b14e58e3efea0d3ba62')], acknowledged=True)"
      ]
     },
     "execution_count": 7,
     "metadata": {},
     "output_type": "execute_result"
    }
   ],
   "source": [
    "users = [\n",
    "    {\"user_id\": 1, \"name\": \"Alice\", \"email\": \"alice@example.com\", \"purchase_history\": []},\n",
    "    {\"user_id\": 2, \"name\": \"Bob\", \"email\": \"bob@example.com\", \"purchase_history\": []},\n",
    "    {\"user_id\": 3, \"name\": \"Charlie\", \"email\": \"charlie@example.com\", \"purchase_history\": []},\n",
    "    {\"user_id\": 4, \"name\": \"David\", \"email\": \"david@example.com\", \"purchase_history\": []},\n",
    "    {\"user_id\": 5, \"name\": \"Emma\", \"email\": \"emma@example.com\", \"purchase_history\": []}\n",
    "]\n",
    "\n",
    "db.users.insert_many(users)\n"
   ]
  },
  {
   "cell_type": "code",
   "execution_count": 106,
   "metadata": {},
   "outputs": [
    {
     "data": {
      "text/plain": [
       "'user_id_1'"
      ]
     },
     "execution_count": 106,
     "metadata": {},
     "output_type": "execute_result"
    }
   ],
   "source": [
    "db.users.create_index({\"user_id\":1})"
   ]
  },
  {
   "cell_type": "code",
   "execution_count": null,
   "metadata": {},
   "outputs": [
    {
     "data": {
      "text/plain": [
       "InsertManyResult([ObjectId('67b24b31e58e3efea0d3ba63'), ObjectId('67b24b31e58e3efea0d3ba64'), ObjectId('67b24b31e58e3efea0d3ba65'), ObjectId('67b24b31e58e3efea0d3ba66'), ObjectId('67b24b31e58e3efea0d3ba67'), ObjectId('67b24b31e58e3efea0d3ba68'), ObjectId('67b24b31e58e3efea0d3ba69'), ObjectId('67b24b31e58e3efea0d3ba6a')], acknowledged=True)"
      ]
     },
     "execution_count": 8,
     "metadata": {},
     "output_type": "execute_result"
    }
   ],
   "source": [
    "products = [\n",
    "    {\"product_id\": 101, \"name\": \"Laptop\", \"category\": \"Electronics\", \"price\": 1000, \"stock\": 10},\n",
    "    {\"product_id\": 102, \"name\": \"Smartphone\", \"category\": \"Electronics\", \"price\": 500, \"stock\": 15},\n",
    "    {\"product_id\": 103, \"name\": \"Tablet\", \"category\": \"Electronics\", \"price\": 300, \"stock\": 20},\n",
    "    {\"product_id\": 104, \"name\": \"Headphones\", \"category\": \"Accessories\", \"price\": 50, \"stock\": 50},\n",
    "    {\"product_id\": 105, \"name\": \"Smartwatch\", \"category\": \"Accessories\", \"price\": 150, \"stock\": 25},\n",
    "    {\"product_id\": 106, \"name\": \"Gaming Mouse\", \"category\": \"Gaming\", \"price\": 60, \"stock\": 40},\n",
    "    {\"product_id\": 107, \"name\": \"Mechanical Keyboard\", \"category\": \"Gaming\", \"price\": 120, \"stock\": 30},\n",
    "    {\"product_id\": 108, \"name\": \"Monitor\", \"category\": \"Electronics\", \"price\": 200, \"stock\": 15},\n",
    "    {\"product_id\": 109, \"name\": \"External Hard Drive\", \"category\": \"Storage\", \"price\": 80, \"stock\": 20},\n",
    "    {\"product_id\": 110, \"name\": \"USB-C Hub\", \"category\": \"Accessories\", \"price\": 40, \"stock\": 60}\n",
    "]\n",
    "db.products.insert_many(products)\n"
   ]
  },
  {
   "cell_type": "code",
   "execution_count": 9,
   "metadata": {},
   "outputs": [
    {
     "data": {
      "text/plain": [
       "InsertManyResult([ObjectId('67b24b56e58e3efea0d3ba6b'), ObjectId('67b24b56e58e3efea0d3ba6c'), ObjectId('67b24b56e58e3efea0d3ba6d'), ObjectId('67b24b56e58e3efea0d3ba6e'), ObjectId('67b24b56e58e3efea0d3ba6f'), ObjectId('67b24b56e58e3efea0d3ba70'), ObjectId('67b24b56e58e3efea0d3ba71'), ObjectId('67b24b56e58e3efea0d3ba72'), ObjectId('67b24b56e58e3efea0d3ba73'), ObjectId('67b24b56e58e3efea0d3ba74')], acknowledged=True)"
      ]
     },
     "execution_count": 9,
     "metadata": {},
     "output_type": "execute_result"
    }
   ],
   "source": [
    "orders = [\n",
    "    {\"order_id\": 1001, \"user_id\": 1, \"product_id\": 101, \"quantity\": 1, \"total_price\": 1000, \"status\": \"Delivered\"},\n",
    "    {\"order_id\": 1002, \"user_id\": 2, \"product_id\": 102, \"quantity\": 2, \"total_price\": 1000, \"status\": \"Shipped\"},\n",
    "    {\"order_id\": 1003, \"user_id\": 3, \"product_id\": 103, \"quantity\": 1, \"total_price\": 300, \"status\": \"Processing\"},\n",
    "    {\"order_id\": 1004, \"user_id\": 4, \"product_id\": 104, \"quantity\": 3, \"total_price\": 150, \"status\": \"Delivered\"},\n",
    "    {\"order_id\": 1005, \"user_id\": 5, \"product_id\": 105, \"quantity\": 1, \"total_price\": 150, \"status\": \"Canceled\"},\n",
    "    {\"order_id\": 1006, \"user_id\": 1, \"product_id\": 106, \"quantity\": 2, \"total_price\": 120, \"status\": \"Delivered\"},\n",
    "    {\"order_id\": 1007, \"user_id\": 2, \"product_id\": 107, \"quantity\": 1, \"total_price\": 120, \"status\": \"Processing\"},\n",
    "    {\"order_id\": 1008, \"user_id\": 3, \"product_id\": 108, \"quantity\": 1, \"total_price\": 200, \"status\": \"Shipped\"},\n",
    "    {\"order_id\": 1009, \"user_id\": 4, \"product_id\": 109, \"quantity\": 2, \"total_price\": 160, \"status\": \"Delivered\"},\n",
    "    {\"order_id\": 1010, \"user_id\": 5, \"product_id\": 110, \"quantity\": 3, \"total_price\": 120, \"status\": \"Delivered\"}\n",
    "]\n",
    "\n",
    "db.orders.insert_many(orders)"
   ]
  },
  {
   "cell_type": "code",
   "execution_count": null,
   "metadata": {},
   "outputs": [],
   "source": [
    "cart_products = db.cart.find({})\n",
    "\n",
    "for j in cart_products:\n",
    "  products_to_add = db.orders.find({\"user_id\": j[\"user_id\"]})\n",
    "  products_add = [i[\"product_id\"] for i in products_to_add]\n",
    "  updated_products = j[\"products\"] + products_add\n",
    "  db.cart.update_one({\"user_id\":j[\"user_id\"]}, {\"$set\":{\"products\":updated_products }})"
   ]
  },
  {
   "cell_type": "code",
   "execution_count": 145,
   "metadata": {},
   "outputs": [],
   "source": [
    "orders_ids = db.users.find({})\n",
    "for j in orders_ids:\n",
    "  productss =  db.orders.find({\"user_id\": j['user_id']})\n",
    "  order_list = [i[\"product_id\"] for i in productss]\n",
    "  updated_products = j[\"purchase_history\"] + order_list\n",
    "  db.users.update_one({\"user_id\": j['user_id']}, {\"$set\":{\"purchase_history\": updated_products}})\n"
   ]
  },
  {
   "cell_type": "code",
   "execution_count": 105,
   "metadata": {},
   "outputs": [
    {
     "data": {
      "text/plain": [
       "'order_id_1_user_id_1'"
      ]
     },
     "execution_count": 105,
     "metadata": {},
     "output_type": "execute_result"
    }
   ],
   "source": [
    "db.orders.create_index({\"order_id\":1, \"user_id\":1})"
   ]
  },
  {
   "cell_type": "code",
   "execution_count": 10,
   "metadata": {},
   "outputs": [
    {
     "data": {
      "text/plain": [
       "InsertManyResult([ObjectId('67b24b78e58e3efea0d3ba75'), ObjectId('67b24b78e58e3efea0d3ba76'), ObjectId('67b24b78e58e3efea0d3ba77'), ObjectId('67b24b78e58e3efea0d3ba78'), ObjectId('67b24b78e58e3efea0d3ba79'), ObjectId('67b24b78e58e3efea0d3ba7a'), ObjectId('67b24b78e58e3efea0d3ba7b'), ObjectId('67b24b78e58e3efea0d3ba7c'), ObjectId('67b24b78e58e3efea0d3ba7d'), ObjectId('67b24b78e58e3efea0d3ba7e')], acknowledged=True)"
      ]
     },
     "execution_count": 10,
     "metadata": {},
     "output_type": "execute_result"
    }
   ],
   "source": [
    "reviews = [\n",
    "    {\"review_id\": 1, \"user_id\": 1, \"product_id\": 101, \"rating\": 5, \"comment\": \"Excellent laptop!\"},\n",
    "    {\"review_id\": 2, \"user_id\": 2, \"product_id\": 102, \"rating\": 4, \"comment\": \"Great smartphone, but battery life could be better.\"},\n",
    "    {\"review_id\": 3, \"user_id\": 3, \"product_id\": 103, \"rating\": 3, \"comment\": \"Average tablet, decent for the price.\"},\n",
    "    {\"review_id\": 4, \"user_id\": 4, \"product_id\": 104, \"rating\": 5, \"comment\": \"Amazing sound quality!\"},\n",
    "    {\"review_id\": 5, \"user_id\": 5, \"product_id\": 105, \"rating\": 4, \"comment\": \"Good smartwatch, comfortable to wear.\"},\n",
    "    {\"review_id\": 6, \"user_id\": 1, \"product_id\": 106, \"rating\": 5, \"comment\": \"Very responsive gaming mouse.\"},\n",
    "    {\"review_id\": 7, \"user_id\": 2, \"product_id\": 107, \"rating\": 5, \"comment\": \"Best mechanical keyboard I have ever used.\"},\n",
    "    {\"review_id\": 8, \"user_id\": 3, \"product_id\": 108, \"rating\": 4, \"comment\": \"Decent monitor, colors are good.\"},\n",
    "    {\"review_id\": 9, \"user_id\": 4, \"product_id\": 109, \"rating\": 3, \"comment\": \"Slow transfer speed, but good storage.\"},\n",
    "    {\"review_id\": 10, \"user_id\": 5, \"product_id\": 110, \"rating\": 4, \"comment\": \"Useful USB hub, works well with my laptop.\"}\n",
    "]\n",
    "\n",
    "db.reviews.insert_many(reviews)"
   ]
  },
  {
   "cell_type": "code",
   "execution_count": null,
   "metadata": {},
   "outputs": [],
   "source": []
  },
  {
   "cell_type": "code",
   "execution_count": 48,
   "metadata": {},
   "outputs": [
    {
     "data": {
      "text/plain": [
       "InsertManyResult([ObjectId('67b4798de58e3efea0d3ba87'), ObjectId('67b4798de58e3efea0d3ba88'), ObjectId('67b4798de58e3efea0d3ba89')], acknowledged=True)"
      ]
     },
     "execution_count": 48,
     "metadata": {},
     "output_type": "execute_result"
    }
   ],
   "source": [
    "cart = [\n",
    "  {\"cart_id\": 1, \"user_id\": 1, \"products\": []},\n",
    "  {\"cart_id\": 2, \"user_id\": 2, \"products\": []},\n",
    "  {\"cart_id\": 3, \"user_id\": 3, \"products\": []},\n",
    "]\n",
    "db.cart.insert_many(cart)"
   ]
  },
  {
   "cell_type": "code",
   "execution_count": 51,
   "metadata": {},
   "outputs": [],
   "source": [
    "cart_products = db.cart.find({})\n",
    "\n",
    "for j in cart_products:\n",
    "  products_to_add = db.orders.find({\"user_id\": j[\"user_id\"]})\n",
    "  products_add = [i[\"product_id\"] for i in products_to_add]\n",
    "  updated_products = j[\"products\"] + products_add\n",
    "  db.cart.update_one({\"user_id\":j[\"user_id\"]}, {\"$set\":{\"products\":updated_products }})"
   ]
  },
  {
   "cell_type": "code",
   "execution_count": 12,
   "metadata": {},
   "outputs": [
    {
     "data": {
      "text/plain": [
       "InsertManyResult([ObjectId('67b24d2ee58e3efea0d3ba82'), ObjectId('67b24d2ee58e3efea0d3ba83'), ObjectId('67b24d2ee58e3efea0d3ba84'), ObjectId('67b24d2ee58e3efea0d3ba85'), ObjectId('67b24d2ee58e3efea0d3ba86')], acknowledged=True)"
      ]
     },
     "execution_count": 12,
     "metadata": {},
     "output_type": "execute_result"
    }
   ],
   "source": [
    "recommendations = [\n",
    "    {\"user_id\": 1, \"recommended_products\": [102, 103, 104]},\n",
    "    {\"user_id\": 2, \"recommended_products\": [105, 106, 107]},\n",
    "    {\"user_id\": 3, \"recommended_products\": [108, 109, 110]},\n",
    "    {\"user_id\": 4, \"recommended_products\": [101, 102, 103]},\n",
    "    {\"user_id\": 5, \"recommended_products\": [104, 105, 106]}\n",
    "]\n",
    "\n",
    "db.recommendations.insert_many(recommendations)"
   ]
  },
  {
   "cell_type": "code",
   "execution_count": 55,
   "metadata": {},
   "outputs": [
    {
     "name": "stdout",
     "output_type": "stream",
     "text": [
      "Laptop\n",
      "Phone\n",
      "Tablet\n",
      "Monitor\n"
     ]
    }
   ],
   "source": [
    "electronics = db.products.find({\"category\": \"Electronics\"})\n",
    "for i in electronics:\n",
    "  print(i[\"name\"])"
   ]
  },
  {
   "cell_type": "code",
   "execution_count": 59,
   "metadata": {},
   "outputs": [
    {
     "name": "stdout",
     "output_type": "stream",
     "text": [
      "{'_id': ObjectId('67b2496ee58e3efea0d3ba5e'), 'product_id': 101, 'name': 'Laptop', 'category': 'Electronics', 'price': 1000, 'stock': 10}\n",
      "{'_id': ObjectId('67b2496ee58e3efea0d3ba5f'), 'product_id': 102, 'name': 'Phone', 'category': 'Electronics', 'price': 500, 'stock': 15}\n",
      "{'_id': ObjectId('67b24b31e58e3efea0d3ba63'), 'product_id': 103, 'name': 'Tablet', 'category': 'Electronics', 'price': 300, 'stock': 20}\n",
      "{'_id': ObjectId('67b24b31e58e3efea0d3ba65'), 'product_id': 105, 'name': 'Smartwatch', 'category': 'Accessories', 'price': 150, 'stock': 25}\n",
      "{'_id': ObjectId('67b24b31e58e3efea0d3ba68'), 'product_id': 108, 'name': 'Monitor', 'category': 'Electronics', 'price': 200, 'stock': 15}\n"
     ]
    }
   ],
   "source": [
    "expensive_products = db.products.find({\"price\": {\"$gte\": 150}})\n",
    "for pro in expensive_products:\n",
    "  print(pro)"
   ]
  },
  {
   "cell_type": "code",
   "execution_count": 64,
   "metadata": {},
   "outputs": [
    {
     "name": "stdout",
     "output_type": "stream",
     "text": [
      "{'_id': ObjectId('67b2496ee58e3efea0d3ba5e'), 'product_id': 101, 'name': 'Laptop', 'category': 'Electronics', 'price': 1000, 'stock': 10}\n",
      "{'_id': ObjectId('67b2496ee58e3efea0d3ba5f'), 'product_id': 102, 'name': 'Phone', 'category': 'Electronics', 'price': 500, 'stock': 15}\n",
      "{'_id': ObjectId('67b24b31e58e3efea0d3ba63'), 'product_id': 103, 'name': 'Tablet', 'category': 'Electronics', 'price': 300, 'stock': 20}\n",
      "{'_id': ObjectId('67b24b31e58e3efea0d3ba68'), 'product_id': 108, 'name': 'Monitor', 'category': 'Electronics', 'price': 200, 'stock': 15}\n",
      "{'_id': ObjectId('67b24b31e58e3efea0d3ba65'), 'product_id': 105, 'name': 'Smartwatch', 'category': 'Accessories', 'price': 150, 'stock': 25}\n"
     ]
    }
   ],
   "source": [
    "expensive = db.products.find({\"price\": {\"$gte\": 150}}).sort(\"price\",-1)\n",
    "for i in expensive :\n",
    "  print(i)"
   ]
  },
  {
   "cell_type": "code",
   "execution_count": 15,
   "metadata": {},
   "outputs": [
    {
     "name": "stdout",
     "output_type": "stream",
     "text": [
      "{'_id': ObjectId('67b24b56e58e3efea0d3ba6b'), 'order_id': 1001, 'user_id': 1, 'product_id': 101, 'quantity': 1, 'total_price': 1000, 'status': 'Delivered'}\n",
      "{'_id': ObjectId('67b24b56e58e3efea0d3ba6e'), 'order_id': 1004, 'user_id': 4, 'product_id': 104, 'quantity': 3, 'total_price': 150, 'status': 'Delivered'}\n",
      "{'_id': ObjectId('67b24b56e58e3efea0d3ba70'), 'order_id': 1006, 'user_id': 1, 'product_id': 106, 'quantity': 2, 'total_price': 120, 'status': 'Delivered'}\n",
      "{'_id': ObjectId('67b24b56e58e3efea0d3ba73'), 'order_id': 1009, 'user_id': 4, 'product_id': 109, 'quantity': 2, 'total_price': 160, 'status': 'Delivered'}\n",
      "{'_id': ObjectId('67b24b56e58e3efea0d3ba74'), 'order_id': 1010, 'user_id': 5, 'product_id': 110, 'quantity': 3, 'total_price': 120, 'status': 'Delivered'}\n"
     ]
    }
   ],
   "source": [
    "delivered_orders = db.orders.find({\"status\":\"Delivered\"})\n",
    "for order in delivered_orders:\n",
    "  print(order)"
   ]
  },
  {
   "cell_type": "code",
   "execution_count": 67,
   "metadata": {},
   "outputs": [
    {
     "name": "stdout",
     "output_type": "stream",
     "text": [
      "{'_id': ObjectId('67b2496ee58e3efea0d3ba5e'), 'product_id': 101, 'name': 'Laptop', 'category': 'Electronics', 'price': 1000, 'stock': 20}\n",
      "{'_id': ObjectId('67b2496ee58e3efea0d3ba5f'), 'product_id': 102, 'name': 'Phone', 'category': 'Electronics', 'price': 500, 'stock': 15}\n",
      "{'_id': ObjectId('67b24b31e58e3efea0d3ba63'), 'product_id': 103, 'name': 'Tablet', 'category': 'Electronics', 'price': 300, 'stock': 20}\n",
      "{'_id': ObjectId('67b24b31e58e3efea0d3ba65'), 'product_id': 105, 'name': 'Smartwatch', 'category': 'Accessories', 'price': 150, 'stock': 25}\n",
      "{'_id': ObjectId('67b24b31e58e3efea0d3ba67'), 'product_id': 107, 'name': 'Mechanical Keyboard', 'category': 'Gaming', 'price': 120, 'stock': 30}\n",
      "{'_id': ObjectId('67b24b31e58e3efea0d3ba68'), 'product_id': 108, 'name': 'Monitor', 'category': 'Electronics', 'price': 200, 'stock': 15}\n"
     ]
    }
   ],
   "source": [
    "expensive_products = db.products.find({\"price\": {\"$gte\":100}})\n",
    "for product in expensive_products:\n",
    "  print(product)"
   ]
  },
  {
   "cell_type": "code",
   "execution_count": 66,
   "metadata": {},
   "outputs": [
    {
     "data": {
      "text/plain": [
       "UpdateResult({'n': 1, 'nModified': 1, 'ok': 1.0, 'updatedExisting': True}, acknowledged=True)"
      ]
     },
     "execution_count": 66,
     "metadata": {},
     "output_type": "execute_result"
    }
   ],
   "source": [
    "db.products.update_many({\"stock\": {\"$lte\": 10}},{\"$inc\": {\"stock\": 10}})"
   ]
  },
  {
   "cell_type": "code",
   "execution_count": 78,
   "metadata": {},
   "outputs": [
    {
     "name": "stdout",
     "output_type": "stream",
     "text": [
      "5\n"
     ]
    }
   ],
   "source": [
    "x = db.t.find({})\n",
    "for i in x:\n",
    "  print(i[\"reviews\"][0][\"rating\"])"
   ]
  },
  {
   "cell_type": "code",
   "execution_count": 95,
   "metadata": {},
   "outputs": [
    {
     "name": "stdout",
     "output_type": "stream",
     "text": [
      "10\n"
     ]
    }
   ],
   "source": [
    "cout = db.products.count_documents({})\n",
    "print(cout)"
   ]
  },
  {
   "cell_type": "code",
   "execution_count": null,
   "metadata": {},
   "outputs": [],
   "source": [
    "expensive_most = db.products.find().sort({\"price\":-1}).limit(1)\n",
    "for product in expensive_most:\n",
    "  print(product)"
   ]
  },
  {
   "cell_type": "markdown",
   "metadata": {},
   "source": [
    "# Find Users Who Have Purchased a Laptop"
   ]
  },
  {
   "cell_type": "code",
   "execution_count": 154,
   "metadata": {},
   "outputs": [
    {
     "name": "stdout",
     "output_type": "stream",
     "text": [
      "Alice\n"
     ]
    }
   ],
   "source": [
    "results = db.users.find({'purchase_history': 101})\n",
    "for i in results:\n",
    "  print(i[\"name\"])"
   ]
  },
  {
   "cell_type": "markdown",
   "metadata": {},
   "source": [
    "# Aggregation & Analytics"
   ]
  },
  {
   "cell_type": "code",
   "execution_count": 169,
   "metadata": {},
   "outputs": [
    {
     "name": "stdout",
     "output_type": "stream",
     "text": [
      "{'_id': 104, 'total_quantity': 3}\n",
      "{'_id': 110, 'total_quantity': 3}\n",
      "{'_id': 109, 'total_quantity': 2}\n",
      "{'_id': 106, 'total_quantity': 2}\n",
      "{'_id': 102, 'total_quantity': 2}\n",
      "{'_id': 105, 'total_quantity': 1}\n",
      "{'_id': 107, 'total_quantity': 1}\n",
      "{'_id': 103, 'total_quantity': 1}\n",
      "{'_id': 108, 'total_quantity': 1}\n",
      "{'_id': 101, 'total_quantity': 1}\n"
     ]
    }
   ],
   "source": [
    "#Best-selling Products\n",
    "pipeline = [{\"$group\": {\"_id\":\"$product_id\",\"total_quantity\": {\"$sum\":\"$quantity\"}}},\n",
    "            {\"$sort\":{\"total_quantity\":-1}}]\n",
    "\n",
    "results = db.orders.aggregate(pipeline)\n",
    "for i in results:\n",
    "  print(i)"
   ]
  },
  {
   "cell_type": "code",
   "execution_count": 171,
   "metadata": {},
   "outputs": [
    {
     "name": "stdout",
     "output_type": "stream",
     "text": [
      "{'_id': 1, 'avg_rating': 5.0}\n",
      "{'_id': 3, 'avg_rating': 3.5}\n",
      "{'_id': 4, 'avg_rating': 4.0}\n",
      "{'_id': 2, 'avg_rating': 4.5}\n",
      "{'_id': 5, 'avg_rating': 4.0}\n"
     ]
    }
   ],
   "source": [
    "# Average product Rating\n",
    "\n",
    "pipeline = [{\n",
    "  \"$group\": {'_id': '$user_id', \"avg_rating\": {'$avg': \"$rating\"}}\n",
    "}]\n",
    "\n",
    "results = db.reviews.aggregate(pipeline)\n",
    "for result in results:\n",
    "  print(result)"
   ]
  },
  {
   "cell_type": "code",
   "execution_count": null,
   "metadata": {},
   "outputs": [],
   "source": [
    "# Top users based on spending\n",
    "\n",
    "pipeline = [{}]"
   ]
  },
  {
   "cell_type": "code",
   "execution_count": 165,
   "metadata": {},
   "outputs": [
    {
     "name": "stdout",
     "output_type": "stream",
     "text": [
      "{'_id': 2, 'Total_price': 1120}\n",
      "{'_id': 1, 'Total_price': 1120}\n",
      "{'_id': 3, 'Total_price': 500}\n",
      "{'_id': 4, 'Total_price': 310}\n",
      "{'_id': 5, 'Total_price': 270}\n"
     ]
    }
   ],
   "source": [
    "pipeline = [{\"$group\": {\"_id\": \"$user_id\", \"Total_price\": {\"$sum\":\"$total_price\"}} }]\n",
    "result = db.orders.aggregate(pipeline)\n",
    "for i in result:\n",
    "  print(i)"
   ]
  },
  {
   "cell_type": "code",
   "execution_count": 172,
   "metadata": {},
   "outputs": [
    {
     "name": "stdout",
     "output_type": "stream",
     "text": [
      "{'_id': 1, 'purchased_products': [101, 106]}\n",
      "{'_id': 3, 'purchased_products': [103, 108]}\n",
      "{'_id': 4, 'purchased_products': [104, 109]}\n",
      "{'_id': 2, 'purchased_products': [102, 107]}\n",
      "{'_id': 5, 'purchased_products': [105, 110]}\n"
     ]
    }
   ],
   "source": [
    "# Find users who bought the same products\n",
    "user_purchases = db.orders.aggregate([\n",
    "    {\"$group\": {\"_id\": \"$user_id\", \"purchased_products\": {\"$push\": \"$product_id\"}}}\n",
    "])\n",
    "for user in user_purchases:\n",
    "    print(user)\n"
   ]
  },
  {
   "cell_type": "markdown",
   "metadata": {},
   "source": [
    "# Recommendation System"
   ]
  },
  {
   "cell_type": "code",
   "execution_count": 173,
   "metadata": {},
   "outputs": [
    {
     "name": "stdout",
     "output_type": "stream",
     "text": [
      "{'_id': 2, 'purchased_products': [102, 107]}\n",
      "{'_id': 1, 'purchased_products': [101, 106]}\n",
      "{'_id': 3, 'purchased_products': [103, 108]}\n",
      "{'_id': 4, 'purchased_products': [104, 109]}\n",
      "{'_id': 5, 'purchased_products': [105, 110]}\n"
     ]
    }
   ],
   "source": [
    "# Find users who bought the same products\n",
    "user_purchases = db.orders.aggregate([\n",
    "    {\"$group\": {\"_id\": \"$user_id\", \"purchased_products\": {\"$push\": \"$product_id\"}}}\n",
    "])\n",
    "for user in user_purchases:\n",
    "    print(user)\n"
   ]
  },
  {
   "cell_type": "code",
   "execution_count": 174,
   "metadata": {},
   "outputs": [
    {
     "name": "stdout",
     "output_type": "stream",
     "text": [
      "{'_id': ObjectId('67b2496ee58e3efea0d3ba5f'), 'product_id': 102, 'name': 'Phone', 'category': 'Electronics', 'price': 500, 'stock': 15}\n",
      "{'_id': ObjectId('67b24b31e58e3efea0d3ba63'), 'product_id': 103, 'name': 'Tablet', 'category': 'Electronics', 'price': 300, 'stock': 20}\n",
      "{'_id': ObjectId('67b24b31e58e3efea0d3ba68'), 'product_id': 108, 'name': 'Monitor', 'category': 'Electronics', 'price': 200, 'stock': 15}\n"
     ]
    }
   ],
   "source": [
    "def recommend_similar(product_id):\n",
    "    product = db.products.find_one({\"product_id\": product_id})\n",
    "    similar_products = db.products.find({\"category\": product[\"category\"], \"product_id\": {\"$ne\": product_id}})\n",
    "    \n",
    "    for p in similar_products:\n",
    "        print(p)\n",
    "\n",
    "recommend_similar(101)  # Recommend similar to Laptop\n"
   ]
  }
 ],
 "metadata": {
  "kernelspec": {
   "display_name": "Python 3",
   "language": "python",
   "name": "python3"
  },
  "language_info": {
   "codemirror_mode": {
    "name": "ipython",
    "version": 3
   },
   "file_extension": ".py",
   "mimetype": "text/x-python",
   "name": "python",
   "nbconvert_exporter": "python",
   "pygments_lexer": "ipython3",
   "version": "3.11.2"
  }
 },
 "nbformat": 4,
 "nbformat_minor": 2
}
